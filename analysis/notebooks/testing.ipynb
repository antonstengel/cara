{
 "cells": [
  {
   "cell_type": "code",
   "execution_count": 1,
   "metadata": {},
   "outputs": [],
   "source": [
    "import numpy as np\n",
    "import numpy.random as npr\n",
    "import pandas as pd\n",
    "import matplotlib.pyplot as plt"
   ]
  },
  {
   "cell_type": "code",
   "execution_count": 72,
   "metadata": {},
   "outputs": [
    {
     "name": "stderr",
     "output_type": "stream",
     "text": [
      "/var/folders/jf/z2mj2s1163z1wn19j7pvcdx40000gn/T/ipykernel_6835/2801228476.py:4: FutureWarning: The series.append method is deprecated and will be removed from pandas in a future version. Use pandas.concat instead.\n",
      "  x = pd.Series([4, 5], name='time', index=['total_time', 'iteration_time']).append(pd.Series(vals, name='time', index=idx))\n"
     ]
    },
    {
     "data": {
      "text/plain": [
       "total_time        4\n",
       "iteration_time    5\n",
       "a                 1\n",
       "b                 2\n",
       "c                 3\n",
       "Name: time, dtype: int64"
      ]
     },
     "execution_count": 72,
     "metadata": {},
     "output_type": "execute_result"
    }
   ],
   "source": [
    "idx = ['a', 'b', 'c']\n",
    "vals = [1,2,3]\n",
    "\n",
    "x = pd.Series([4, 5], name='time', index=['total_time', 'iteration_time']).append(pd.Series(vals, name='time', index=idx))\n",
    "x"
   ]
  },
  {
   "cell_type": "code",
   "execution_count": 59,
   "metadata": {},
   "outputs": [
    {
     "data": {
      "text/plain": [
       "['lol',\n",
       " 'random2',\n",
       " 'random11',\n",
       " 'test0.txt',\n",
       " 'test1.txt',\n",
       " 'test2.txt',\n",
       " 'test3.txt',\n",
       " 'test4.txt',\n",
       " 'test5.txt',\n",
       " 'test6.txt',\n",
       " 'test7.txt',\n",
       " 'test8.txt',\n",
       " 'test9.txt',\n",
       " 'test10.txt',\n",
       " 'test11.txt',\n",
       " 'test12.txt',\n",
       " 'test13.txt',\n",
       " 'test14.txt',\n",
       " 'test15.txt',\n",
       " 'test16.txt',\n",
       " 'test17.txt',\n",
       " 'test18.txt',\n",
       " 'test19.txt']"
      ]
     },
     "execution_count": 59,
     "metadata": {},
     "output_type": "execute_result"
    }
   ],
   "source": [
    "import natsort\n",
    "files = pd.Series([f'test{i}.txt' for i in range(0,20)] + ['random2'] + ['random11'] + ['lol'])\n",
    "natsort.natsorted(files)"
   ]
  },
  {
   "cell_type": "code",
   "execution_count": 53,
   "metadata": {},
   "outputs": [
    {
     "ename": "ValueError",
     "evalue": "Grouper and axis must be same length",
     "output_type": "error",
     "traceback": [
      "\u001b[0;31m---------------------------------------------------------------------------\u001b[0m",
      "\u001b[0;31mValueError\u001b[0m                                Traceback (most recent call last)",
      "Cell \u001b[0;32mIn[53], line 1\u001b[0m\n\u001b[0;32m----> 1\u001b[0m test\u001b[39m.\u001b[39;49mgroupby(test\u001b[39m.\u001b[39;49munique())\u001b[39m.\u001b[39mgroups\n",
      "File \u001b[0;32m~/opt/anaconda3/envs/thesis/lib/python3.11/site-packages/pandas/core/series.py:2076\u001b[0m, in \u001b[0;36mSeries.groupby\u001b[0;34m(self, by, axis, level, as_index, sort, group_keys, squeeze, observed, dropna)\u001b[0m\n\u001b[1;32m   2073\u001b[0m     \u001b[39mraise\u001b[39;00m \u001b[39mTypeError\u001b[39;00m(\u001b[39m\"\u001b[39m\u001b[39mYou have to supply one of \u001b[39m\u001b[39m'\u001b[39m\u001b[39mby\u001b[39m\u001b[39m'\u001b[39m\u001b[39m and \u001b[39m\u001b[39m'\u001b[39m\u001b[39mlevel\u001b[39m\u001b[39m'\u001b[39m\u001b[39m\"\u001b[39m)\n\u001b[1;32m   2074\u001b[0m axis \u001b[39m=\u001b[39m \u001b[39mself\u001b[39m\u001b[39m.\u001b[39m_get_axis_number(axis)\n\u001b[0;32m-> 2076\u001b[0m \u001b[39mreturn\u001b[39;00m SeriesGroupBy(\n\u001b[1;32m   2077\u001b[0m     obj\u001b[39m=\u001b[39;49m\u001b[39mself\u001b[39;49m,\n\u001b[1;32m   2078\u001b[0m     keys\u001b[39m=\u001b[39;49mby,\n\u001b[1;32m   2079\u001b[0m     axis\u001b[39m=\u001b[39;49maxis,\n\u001b[1;32m   2080\u001b[0m     level\u001b[39m=\u001b[39;49mlevel,\n\u001b[1;32m   2081\u001b[0m     as_index\u001b[39m=\u001b[39;49mas_index,\n\u001b[1;32m   2082\u001b[0m     sort\u001b[39m=\u001b[39;49msort,\n\u001b[1;32m   2083\u001b[0m     group_keys\u001b[39m=\u001b[39;49mgroup_keys,\n\u001b[1;32m   2084\u001b[0m     squeeze\u001b[39m=\u001b[39;49msqueeze,\n\u001b[1;32m   2085\u001b[0m     observed\u001b[39m=\u001b[39;49mobserved,\n\u001b[1;32m   2086\u001b[0m     dropna\u001b[39m=\u001b[39;49mdropna,\n\u001b[1;32m   2087\u001b[0m )\n",
      "File \u001b[0;32m~/opt/anaconda3/envs/thesis/lib/python3.11/site-packages/pandas/core/groupby/groupby.py:965\u001b[0m, in \u001b[0;36mGroupBy.__init__\u001b[0;34m(self, obj, keys, axis, level, grouper, exclusions, selection, as_index, sort, group_keys, squeeze, observed, mutated, dropna)\u001b[0m\n\u001b[1;32m    962\u001b[0m \u001b[39mif\u001b[39;00m grouper \u001b[39mis\u001b[39;00m \u001b[39mNone\u001b[39;00m:\n\u001b[1;32m    963\u001b[0m     \u001b[39mfrom\u001b[39;00m \u001b[39mpandas\u001b[39;00m\u001b[39m.\u001b[39;00m\u001b[39mcore\u001b[39;00m\u001b[39m.\u001b[39;00m\u001b[39mgroupby\u001b[39;00m\u001b[39m.\u001b[39;00m\u001b[39mgrouper\u001b[39;00m \u001b[39mimport\u001b[39;00m get_grouper\n\u001b[0;32m--> 965\u001b[0m     grouper, exclusions, obj \u001b[39m=\u001b[39m get_grouper(\n\u001b[1;32m    966\u001b[0m         obj,\n\u001b[1;32m    967\u001b[0m         keys,\n\u001b[1;32m    968\u001b[0m         axis\u001b[39m=\u001b[39;49maxis,\n\u001b[1;32m    969\u001b[0m         level\u001b[39m=\u001b[39;49mlevel,\n\u001b[1;32m    970\u001b[0m         sort\u001b[39m=\u001b[39;49msort,\n\u001b[1;32m    971\u001b[0m         observed\u001b[39m=\u001b[39;49mobserved,\n\u001b[1;32m    972\u001b[0m         mutated\u001b[39m=\u001b[39;49m\u001b[39mself\u001b[39;49m\u001b[39m.\u001b[39;49mmutated,\n\u001b[1;32m    973\u001b[0m         dropna\u001b[39m=\u001b[39;49m\u001b[39mself\u001b[39;49m\u001b[39m.\u001b[39;49mdropna,\n\u001b[1;32m    974\u001b[0m     )\n\u001b[1;32m    976\u001b[0m \u001b[39mself\u001b[39m\u001b[39m.\u001b[39mobj \u001b[39m=\u001b[39m obj\n\u001b[1;32m    977\u001b[0m \u001b[39mself\u001b[39m\u001b[39m.\u001b[39maxis \u001b[39m=\u001b[39m obj\u001b[39m.\u001b[39m_get_axis_number(axis)\n",
      "File \u001b[0;32m~/opt/anaconda3/envs/thesis/lib/python3.11/site-packages/pandas/core/groupby/grouper.py:899\u001b[0m, in \u001b[0;36mget_grouper\u001b[0;34m(obj, key, axis, level, sort, observed, mutated, validate, dropna)\u001b[0m\n\u001b[1;32m    894\u001b[0m         in_axis \u001b[39m=\u001b[39m \u001b[39mFalse\u001b[39;00m\n\u001b[1;32m    896\u001b[0m     \u001b[39m# create the Grouping\u001b[39;00m\n\u001b[1;32m    897\u001b[0m     \u001b[39m# allow us to passing the actual Grouping as the gpr\u001b[39;00m\n\u001b[1;32m    898\u001b[0m     ping \u001b[39m=\u001b[39m (\n\u001b[0;32m--> 899\u001b[0m         Grouping(\n\u001b[1;32m    900\u001b[0m             group_axis,\n\u001b[1;32m    901\u001b[0m             gpr,\n\u001b[1;32m    902\u001b[0m             obj\u001b[39m=\u001b[39;49mobj,\n\u001b[1;32m    903\u001b[0m             level\u001b[39m=\u001b[39;49mlevel,\n\u001b[1;32m    904\u001b[0m             sort\u001b[39m=\u001b[39;49msort,\n\u001b[1;32m    905\u001b[0m             observed\u001b[39m=\u001b[39;49mobserved,\n\u001b[1;32m    906\u001b[0m             in_axis\u001b[39m=\u001b[39;49min_axis,\n\u001b[1;32m    907\u001b[0m             dropna\u001b[39m=\u001b[39;49mdropna,\n\u001b[1;32m    908\u001b[0m         )\n\u001b[1;32m    909\u001b[0m         \u001b[39mif\u001b[39;00m \u001b[39mnot\u001b[39;00m \u001b[39misinstance\u001b[39m(gpr, Grouping)\n\u001b[1;32m    910\u001b[0m         \u001b[39melse\u001b[39;00m gpr\n\u001b[1;32m    911\u001b[0m     )\n\u001b[1;32m    913\u001b[0m     groupings\u001b[39m.\u001b[39mappend(ping)\n\u001b[1;32m    915\u001b[0m \u001b[39mif\u001b[39;00m \u001b[39mlen\u001b[39m(groupings) \u001b[39m==\u001b[39m \u001b[39m0\u001b[39m \u001b[39mand\u001b[39;00m \u001b[39mlen\u001b[39m(obj):\n",
      "File \u001b[0;32m~/opt/anaconda3/envs/thesis/lib/python3.11/site-packages/pandas/core/groupby/grouper.py:480\u001b[0m, in \u001b[0;36mGrouping.__init__\u001b[0;34m(self, index, grouper, obj, level, sort, observed, in_axis, dropna)\u001b[0m\n\u001b[1;32m    478\u001b[0m \u001b[39mself\u001b[39m\u001b[39m.\u001b[39mlevel \u001b[39m=\u001b[39m level\n\u001b[1;32m    479\u001b[0m \u001b[39mself\u001b[39m\u001b[39m.\u001b[39m_orig_grouper \u001b[39m=\u001b[39m grouper\n\u001b[0;32m--> 480\u001b[0m \u001b[39mself\u001b[39m\u001b[39m.\u001b[39mgrouping_vector \u001b[39m=\u001b[39m _convert_grouper(index, grouper)\n\u001b[1;32m    481\u001b[0m \u001b[39mself\u001b[39m\u001b[39m.\u001b[39m_all_grouper \u001b[39m=\u001b[39m \u001b[39mNone\u001b[39;00m\n\u001b[1;32m    482\u001b[0m \u001b[39mself\u001b[39m\u001b[39m.\u001b[39m_index \u001b[39m=\u001b[39m index\n",
      "File \u001b[0;32m~/opt/anaconda3/envs/thesis/lib/python3.11/site-packages/pandas/core/groupby/grouper.py:943\u001b[0m, in \u001b[0;36m_convert_grouper\u001b[0;34m(axis, grouper)\u001b[0m\n\u001b[1;32m    941\u001b[0m \u001b[39melif\u001b[39;00m \u001b[39misinstance\u001b[39m(grouper, (\u001b[39mlist\u001b[39m, \u001b[39mtuple\u001b[39m, Index, Categorical, np\u001b[39m.\u001b[39mndarray)):\n\u001b[1;32m    942\u001b[0m     \u001b[39mif\u001b[39;00m \u001b[39mlen\u001b[39m(grouper) \u001b[39m!=\u001b[39m \u001b[39mlen\u001b[39m(axis):\n\u001b[0;32m--> 943\u001b[0m         \u001b[39mraise\u001b[39;00m \u001b[39mValueError\u001b[39;00m(\u001b[39m\"\u001b[39m\u001b[39mGrouper and axis must be same length\u001b[39m\u001b[39m\"\u001b[39m)\n\u001b[1;32m    945\u001b[0m     \u001b[39mif\u001b[39;00m \u001b[39misinstance\u001b[39m(grouper, (\u001b[39mlist\u001b[39m, \u001b[39mtuple\u001b[39m)):\n\u001b[1;32m    946\u001b[0m         grouper \u001b[39m=\u001b[39m com\u001b[39m.\u001b[39masarray_tuplesafe(grouper)\n",
      "\u001b[0;31mValueError\u001b[0m: Grouper and axis must be same length"
     ]
    }
   ],
   "source": [
    "test.groupby(test.unique()).groups"
   ]
  },
  {
   "cell_type": "code",
   "execution_count": 39,
   "metadata": {},
   "outputs": [],
   "source": [
    "import re\n",
    "input_files = ['test1']\n",
    "input_files.sort(key=lambda f: int(re.sub('\\D', '', f)))"
   ]
  },
  {
   "cell_type": "code",
   "execution_count": 40,
   "metadata": {},
   "outputs": [
    {
     "data": {
      "text/plain": [
       "0      0\n",
       "1      1\n",
       "2      2\n",
       "3      3\n",
       "4      4\n",
       "5      5\n",
       "6      6\n",
       "7      7\n",
       "8      8\n",
       "9      9\n",
       "10    10\n",
       "11    11\n",
       "12    12\n",
       "13    13\n",
       "14    14\n",
       "15    15\n",
       "16    16\n",
       "17    17\n",
       "18    18\n",
       "19    19\n",
       "dtype: int64"
      ]
     },
     "execution_count": 40,
     "metadata": {},
     "output_type": "execute_result"
    }
   ],
   "source": [
    "input_files.apply(lambda x: int(re.sub('\\D', '', x)))"
   ]
  },
  {
   "cell_type": "code",
   "execution_count": 143,
   "metadata": {},
   "outputs": [
    {
     "data": {
      "image/png": "[encoded data removed]",
      "text/plain": [
       "<Figure size 640x480 with 1 Axes>"
      ]
     },
     "metadata": {},
     "output_type": "display_data"
    }
   ],
   "source": [
    "x = np.arange(1,10,0.1)\n",
    "y = 1/x**2\n",
    "\n",
    "plt.fill_between(x[0:11],y[0:11], color='#b8b9ba', label='Point 1 mass')\n",
    "plt.fill_between(x[10:51],y[10:51], color='#6f7478', label='Point 2 mass')\n",
    "plt.fill_between(x[50:],y[50:], color='#323436', label='Point 3 mass')\n",
    "\n",
    "plt.plot(x,y, lw=2, color='#616161')\n",
    "\n",
    "plt.vlines(x=1, ymin=0, ymax=1, colors='black', ls='-', lw=2, label='Point 1')\n",
    "plt.vlines(x=2, ymin=0, ymax=1, colors='black', ls='--', lw=2, label='Point 2')\n",
    "plt.vlines(x=6, ymin=0, ymax=1, colors='black', ls=':', lw=2, label='Point 3')\n",
    "\n",
    "plt.xticks(range(1,11))\n",
    "plt.xlabel('x')\n",
    "plt.ylabel('P[x]')\n",
    "plt.legend()\n",
    "plt.show()\n"
   ]
  },
  {
   "cell_type": "code",
   "execution_count": null,
   "metadata": {},
   "outputs": [],
   "source": []
  },
  {
   "cell_type": "code",
   "execution_count": null,
   "metadata": {},
   "outputs": [],
   "source": []
  }
 ],
 "metadata": {
  "kernelspec": {
   "display_name": "thesis",
   "language": "python",
   "name": "python3"
  },
  "language_info": {
   "codemirror_mode": {
    "name": "ipython",
    "version": 3
   },
   "file_extension": ".py",
   "mimetype": "text/x-python",
   "name": "python",
   "nbconvert_exporter": "python",
   "pygments_lexer": "ipython3",
   "version": "3.11.2"
  },
  "orig_nbformat": 4
 },
 "nbformat": 4,
 "nbformat_minor": 2
}
